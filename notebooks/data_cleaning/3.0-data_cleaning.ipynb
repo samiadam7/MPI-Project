{
 "cells": [
  {
   "cell_type": "markdown",
   "metadata": {},
   "source": [
    "# Streamlit Checks"
   ]
  },
  {
   "cell_type": "code",
   "execution_count": 2,
   "metadata": {},
   "outputs": [],
   "source": [
    "import pandas as pd"
   ]
  },
  {
   "cell_type": "code",
   "execution_count": 41,
   "metadata": {},
   "outputs": [
    {
     "data": {
      "text/html": [
       "<div>\n",
       "<style scoped>\n",
       "    .dataframe tbody tr th:only-of-type {\n",
       "        vertical-align: middle;\n",
       "    }\n",
       "\n",
       "    .dataframe tbody tr th {\n",
       "        vertical-align: top;\n",
       "    }\n",
       "\n",
       "    .dataframe thead th {\n",
       "        text-align: right;\n",
       "    }\n",
       "</style>\n",
       "<table border=\"1\" class=\"dataframe\">\n",
       "  <thead>\n",
       "    <tr style=\"text-align: right;\">\n",
       "      <th></th>\n",
       "      <th>Country</th>\n",
       "      <th>Year</th>\n",
       "      <th>Health</th>\n",
       "      <th>Education</th>\n",
       "      <th>Living Standards</th>\n",
       "    </tr>\n",
       "  </thead>\n",
       "  <tbody>\n",
       "    <tr>\n",
       "      <th>73</th>\n",
       "      <td>Nigeria</td>\n",
       "      <td>2023</td>\n",
       "      <td>0.034042</td>\n",
       "      <td>0.062113</td>\n",
       "      <td>0.078662</td>\n",
       "    </tr>\n",
       "    <tr>\n",
       "      <th>86</th>\n",
       "      <td>Nigeria</td>\n",
       "      <td>2022</td>\n",
       "      <td>0.078590</td>\n",
       "      <td>0.071797</td>\n",
       "      <td>0.104002</td>\n",
       "    </tr>\n",
       "    <tr>\n",
       "      <th>83</th>\n",
       "      <td>Nigeria</td>\n",
       "      <td>2021</td>\n",
       "      <td>0.078590</td>\n",
       "      <td>0.071797</td>\n",
       "      <td>0.104002</td>\n",
       "    </tr>\n",
       "    <tr>\n",
       "      <th>81</th>\n",
       "      <td>Nigeria</td>\n",
       "      <td>2020</td>\n",
       "      <td>0.078590</td>\n",
       "      <td>0.071797</td>\n",
       "      <td>0.104002</td>\n",
       "    </tr>\n",
       "  </tbody>\n",
       "</table>\n",
       "</div>"
      ],
      "text/plain": [
       "    Country  Year    Health  Education  Living Standards\n",
       "73  Nigeria  2023  0.034042   0.062113          0.078662\n",
       "86  Nigeria  2022  0.078590   0.071797          0.104002\n",
       "83  Nigeria  2021  0.078590   0.071797          0.104002\n",
       "81  Nigeria  2020  0.078590   0.071797          0.104002"
      ]
     },
     "execution_count": 41,
     "metadata": {},
     "output_type": "execute_result"
    }
   ],
   "source": [
    "lookup = [\"Nigeria\"]\n",
    "\n",
    "df_list = []\n",
    "for i, year in enumerate([2023,2022,2021,2020]):\n",
    "    globals()[f\"df{i}\"] = pd.read_csv(f\"../../data/interm/global_{year}.csv\")\n",
    "    globals()[f\"df{i}\"][\"Year\"] = year\n",
    "    df_list.append(globals()[f\"df{i}\"])\n",
    "    \n",
    "country_dfs = []\n",
    "for df in df_list:\n",
    "    country = df[df[\"Country\"].isin(lookup)][[\"Country\", \"Year\", \"Health\", \"Education\", \"Living Standards\"]]\n",
    "    country_dfs.append(country)\n",
    "    \n",
    "merged_countries_years_df = pd.concat(country_dfs, axis= 0)\n",
    "\n",
    "merged_countries_years_df"
   ]
  },
  {
   "cell_type": "code",
   "execution_count": 60,
   "metadata": {},
   "outputs": [
    {
     "name": "stdout",
     "output_type": "stream",
     "text": [
      "MPI: 0.175 (-31.28%)\n",
      "Health: 0.034 (-56.68%)\n",
      "Education: 0.062 (-13.49%)\n",
      "Living Standards: 0.079 (-24.36%)\n"
     ]
    }
   ],
   "source": [
    "YEAR = 2023\n",
    "metrics = [\"MPI\", \"Health\", \"Education\", \"Living Standards\"]\n",
    "\n",
    "curr_year_df = merged_countries_years_df.loc[merged_countries_years_df[\"Year\"] == YEAR]\n",
    "prev_year_df = merged_countries_years_df.loc[merged_countries_years_df[\"Year\"] == YEAR - 1]\n",
    "\n",
    "for metric in metrics:\n",
    "    if metric == \"MPI\":\n",
    "        current_val = curr_year_df[metrics[1:]].sum(axis= 1).values[0]\n",
    "        prev_val = prev_year_df[metrics[1:]].sum(axis= 1).values[0]\n",
    "    \n",
    "    else:\n",
    "        current_val = curr_year_df[metric].values[0]\n",
    "        prev_val = prev_year_df[metric].values[0]\n",
    "        \n",
    "    delta = round((current_val - prev_val) / prev_val * 100, 2)\n",
    "    print(f\"{metric}: {round(current_val, 3)} ({delta}%)\")"
   ]
  },
  {
   "cell_type": "code",
   "execution_count": 56,
   "metadata": {},
   "outputs": [
    {
     "data": {
      "text/plain": [
       "0.1748173018373415"
      ]
     },
     "execution_count": 56,
     "metadata": {},
     "output_type": "execute_result"
    }
   ],
   "source": []
  },
  {
   "cell_type": "code",
   "execution_count": null,
   "metadata": {},
   "outputs": [],
   "source": []
  }
 ],
 "metadata": {
  "kernelspec": {
   "display_name": "mpi-project",
   "language": "python",
   "name": "python3"
  },
  "language_info": {
   "codemirror_mode": {
    "name": "ipython",
    "version": 3
   },
   "file_extension": ".py",
   "mimetype": "text/x-python",
   "name": "python",
   "nbconvert_exporter": "python",
   "pygments_lexer": "ipython3",
   "version": "3.10.14"
  }
 },
 "nbformat": 4,
 "nbformat_minor": 2
}
